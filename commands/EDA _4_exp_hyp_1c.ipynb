{
 "cells": [
  {
   "cell_type": "markdown",
   "metadata": {},
   "source": [
    "#### Graphical exploration for hypotheses 1\n"
   ]
  },
  {
   "cell_type": "markdown",
   "metadata": {},
   "source": [
    "##### Getting data"
   ]
  },
  {
   "cell_type": "code",
   "execution_count": 25,
   "metadata": {},
   "outputs": [],
   "source": [
    "# definitions\n",
    "with open(\"0_definitions.py\") as file:\n",
    "    exec(file.read())"
   ]
  },
  {
   "cell_type": "code",
   "execution_count": null,
   "metadata": {},
   "outputs": [],
   "source": [
    "df_eda = pd.read_csv('eda3.csv',)\n",
    "df_eda = df_eda.drop(df_eda.columns[0], axis=1)\n",
    "df_eda.head()"
   ]
  },
  {
   "cell_type": "markdown",
   "metadata": {},
   "source": [
    "### Some extra variables for EDA"
   ]
  },
  {
   "cell_type": "code",
   "execution_count": null,
   "metadata": {},
   "outputs": [],
   "source": [
    "\n",
    "df_eda.head()"
   ]
  },
  {
   "cell_type": "code",
   "execution_count": 28,
   "metadata": {},
   "outputs": [],
   "source": [
    "# Ratio bedrooms\tbathrooms \n",
    "#  0.092903 square footage = 1 square meters.\n",
    "df_eda['bedrooms_for_100sqlivmeter']=(df_eda[\"bedrooms\"]/(df_eda[\"sqft_living\"]*0.092903))*100\n",
    "df_eda['bethrooms_for_100sqliving'] = (df_eda[\"bathrooms\"]  / df_eda[\"sqft_living\"]*0.092903)*100 \n",
    "# rescaling price for interpretation\n",
    "df_eda['price'] = df_eda['price'] / 100000\n"
   ]
  },
  {
   "cell_type": "code",
   "execution_count": null,
   "metadata": {},
   "outputs": [],
   "source": [
    "# Define bins and labels\n",
    "bins = [0, 1, 2, 3, float('inf')]\n",
    "labels = ['Very Low (0-1)', 'Low (1-2)', 'Medium (2-3)', 'High (3+)']\n",
    "# Apply pd.cut to bin the data\n",
    "df_eda['bedrooms_100'] = pd.cut(df_eda['bedrooms_for_100sqlivmeter'], bins=bins, labels=labels)\n",
    "# Display the DataFrame with the new binned column\n",
    "df_eda.head()"
   ]
  },
  {
   "cell_type": "code",
   "execution_count": null,
   "metadata": {},
   "outputs": [],
   "source": [
    "plt.figure(figsize=(10, 8), dpi=100)\n",
    "sns.boxplot(\n",
    "    x='bedrooms_100',  # Binned categories\n",
    "    y='price',                # Variable to plot\n",
    "    data=df_eda,              # Data source\n",
    "    palette='coolwarm'        # Color palette for the boxplot\n",
    ")\n",
    "\n",
    "# Adding labels and title\n",
    "plt.title('Price Distribution by Bedrooms per 100 sqm', fontsize=16)  # Title with larger font size\n",
    "plt.xlabel('Bedrooms per 100 sqm Category', fontsize=14)              # X-axis label\n",
    "plt.ylabel('Price in 100000', fontsize=14)                                       # Y-axis label\n",
    "\n",
    "plt.show()  # Display the boxplot"
   ]
  },
  {
   "cell_type": "markdown",
   "metadata": {},
   "source": [
    "#### Correlation between Ratio bedrooms/bethrooms to square meter and price"
   ]
  },
  {
   "cell_type": "code",
   "execution_count": null,
   "metadata": {},
   "outputs": [],
   "source": [
    "new_column_names = {\n",
    "    'bedrooms_for_100sqlivmeter': 'Bedrooms per 100 sqm (Living Area)',\n",
    "    'bethrooms_for_100sqliving': 'Bedrooms per 100 sqm (Lot Area)',\n",
    "    'price': 'price'\n",
    "}\n",
    "\n",
    "# Rename columns in the DataFrame\n",
    "df_eda.rename(columns=new_column_names, inplace=True)\n",
    "\n",
    "# Define the list of columns for correlation\n",
    "num_question = list(new_column_names.values())  # Use the new column names\n",
    "\n",
    "# Plotting the heatmap\n",
    "plt.figure(figsize=(10, 8), dpi=100)\n",
    "heatmap = sns.heatmap(\n",
    "    data=df_eda[num_question].corr(),  # Compute correlation matrix for specified columns\n",
    "    cmap='coolwarm',                  # Color map\n",
    "    linecolor='white',                # Color of lines that separate cells\n",
    "    linewidth=1,                      # Width of lines that separate cells\n",
    "    annot=True,                       # Annotate cells with correlation coefficients\n",
    "    vmin=-1,                          # Minimum value of the color scale\n",
    "    vmax=1,                           # Maximum value of the color scale\n",
    "    fmt='.2f'                         # Format annotations to 2 decimal places\n",
    ")\n",
    "\n",
    "# Adding labels and title\n",
    "plt.title('Correlation Heatmap of Housing Features', fontsize=16)  # Title with larger font size\n",
    "plt.xlabel('Features', fontsize=14)            # X-axis label with larger font size\n",
    "plt.ylabel('Features', fontsize=14)            # Y-axis label with larger font size\n"
   ]
  },
  {
   "cell_type": "markdown",
   "metadata": {},
   "source": [
    "#### Save data for next steps"
   ]
  },
  {
   "cell_type": "code",
   "execution_count": null,
   "metadata": {},
   "outputs": [],
   "source": [
    "df_eda.to_csv(\"eda4.csv\")\n",
    "df_eda.head()"
   ]
  }
 ],
 "metadata": {
  "kernelspec": {
   "display_name": ".venv",
   "language": "python",
   "name": "python3"
  },
  "language_info": {
   "codemirror_mode": {
    "name": "ipython",
    "version": 3
   },
   "file_extension": ".py",
   "mimetype": "text/x-python",
   "name": "python",
   "nbconvert_exporter": "python",
   "pygments_lexer": "ipython3",
   "version": "3.11.3"
  },
  "orig_nbformat": 4
 },
 "nbformat": 4,
 "nbformat_minor": 2
}
